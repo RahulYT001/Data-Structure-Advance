{
 "cells": [
  {
   "cell_type": "code",
   "execution_count": null,
   "id": "45c9ba0f",
   "metadata": {},
   "outputs": [],
   "source": [
    "import random"
   ]
  },
  {
   "cell_type": "code",
   "execution_count": null,
   "id": "c3b2cd62",
   "metadata": {},
   "outputs": [],
   "source": [
    "l = [1, 2, 34, 45, 5]\n",
    "index = []\n",
    "shuffled_index = []\n",
    "shuffled_list = []\n",
    "i = 0"
   ]
  },
  {
   "cell_type": "code",
   "execution_count": null,
   "id": "1a072ee0",
   "metadata": {},
   "outputs": [],
   "source": [
    "while i < len(l):\n",
    "    index.append(i)\n",
    "    i += 1"
   ]
  },
  {
   "cell_type": "code",
   "execution_count": null,
   "id": "df64f2e9",
   "metadata": {},
   "outputs": [],
   "source": [
    "while index:\n",
    "    random_index = random.choice(index)\n",
    "    shuffled_index.append(random_index)\n",
    "    index.remove(random_index)"
   ]
  },
  {
   "cell_type": "code",
   "execution_count": null,
   "id": "5fe2611e",
   "metadata": {},
   "outputs": [],
   "source": [
    "for ind in shuffled_index:\n",
    "    shuffled_list.append(l[ind])"
   ]
  },
  {
   "cell_type": "code",
   "execution_count": null,
   "id": "f9fb72d8",
   "metadata": {},
   "outputs": [],
   "source": [
    "print(shuffled_list)"
   ]
  }
 ],
 "metadata": {
  "jupytext": {
   "cell_metadata_filter": "-all",
   "main_language": "python",
   "notebook_metadata_filter": "-all"
  }
 },
 "nbformat": 4,
 "nbformat_minor": 5
}
