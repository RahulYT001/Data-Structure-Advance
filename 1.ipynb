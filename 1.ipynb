{
 "cells": [
  {
   "cell_type": "code",
   "execution_count": 1,
   "id": "e50d6067",
   "metadata": {},
   "outputs": [],
   "source": [
    "rev_str = \"\""
   ]
  },
  {
   "cell_type": "code",
   "execution_count": null,
   "id": "5f42815f",
   "metadata": {},
   "outputs": [],
   "source": [
    "length = len(a := input(\"Enter the string to be reversed: \"))"
   ]
  },
  {
   "cell_type": "code",
   "execution_count": null,
   "id": "b1cafbc6",
   "metadata": {},
   "outputs": [],
   "source": [
    "while length > 0:\n",
    "    rev_str += a[length - 1]\n",
    "    length -= 1\n",
    "    print(rev_str)"
   ]
  },
  {
   "cell_type": "code",
   "execution_count": null,
   "id": "e6b39f27",
   "metadata": {},
   "outputs": [],
   "source": []
  },
  {
   "cell_type": "code",
   "execution_count": null,
   "id": "3f416c47",
   "metadata": {},
   "outputs": [],
   "source": []
  },
  {
   "cell_type": "code",
   "execution_count": null,
   "id": "7d3c8bc8",
   "metadata": {},
   "outputs": [],
   "source": []
  }
 ],
 "metadata": {
  "kernelspec": {
   "display_name": "Python 3",
   "language": "python",
   "name": "python3"
  },
  "language_info": {
   "codemirror_mode": {
    "name": "ipython",
    "version": 3
   },
   "file_extension": ".py",
   "mimetype": "text/x-python",
   "name": "python",
   "nbconvert_exporter": "python",
   "pygments_lexer": "ipython3",
   "version": "3.12.4"
  }
 },
 "nbformat": 4,
 "nbformat_minor": 5
}
