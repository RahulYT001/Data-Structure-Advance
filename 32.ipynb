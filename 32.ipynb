{
 "cells": [
  {
   "cell_type": "code",
   "execution_count": null,
   "id": "bb3926e2",
   "metadata": {},
   "outputs": [],
   "source": [
    "dict1 = {\n",
    "    'a': 1,\n",
    "    'b': 2,\n",
    "    'c': 3\n",
    "}"
   ]
  },
  {
   "cell_type": "code",
   "execution_count": null,
   "id": "bea244d8",
   "metadata": {},
   "outputs": [],
   "source": [
    "dict2 = {\n",
    "    'b': 3,\n",
    "    'c': 4,\n",
    "    'd': 5\n",
    "}"
   ]
  },
  {
   "cell_type": "code",
   "execution_count": null,
   "id": "76e37e7d",
   "metadata": {},
   "outputs": [],
   "source": [
    "merge = {}\n",
    "d1_items = dict1.items()\n",
    "d2_items = dict2.items()"
   ]
  },
  {
   "cell_type": "code",
   "execution_count": null,
   "id": "ca3e38cc",
   "metadata": {},
   "outputs": [],
   "source": [
    "for i in d1_items:\n",
    "    merge[i[0]] = i[1]"
   ]
  },
  {
   "cell_type": "code",
   "execution_count": null,
   "id": "054f135f",
   "metadata": {},
   "outputs": [],
   "source": [
    "for j in d2_items:\n",
    "    if j[0] in merge:\n",
    "        merge[j[0]] += j[1]\n",
    "    else:\n",
    "        merge[j[0]] = j[1]"
   ]
  },
  {
   "cell_type": "code",
   "execution_count": null,
   "id": "e0c354a6",
   "metadata": {},
   "outputs": [],
   "source": [
    "print(\"Merged dictionary:\", merge)"
   ]
  }
 ],
 "metadata": {
  "jupytext": {
   "cell_metadata_filter": "-all",
   "main_language": "python",
   "notebook_metadata_filter": "-all"
  }
 },
 "nbformat": 4,
 "nbformat_minor": 5
}
