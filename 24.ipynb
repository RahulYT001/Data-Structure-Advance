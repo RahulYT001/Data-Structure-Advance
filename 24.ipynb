{
 "cells": [
  {
   "cell_type": "code",
   "execution_count": null,
   "id": "d926ca99",
   "metadata": {},
   "outputs": [],
   "source": [
    "a = input(\"Enter your strings with commas for set 1: \\n\")\n",
    "set1 = set(s.strip() for s in a.split(\",\"))"
   ]
  },
  {
   "cell_type": "code",
   "execution_count": null,
   "id": "702bc7e4",
   "metadata": {},
   "outputs": [],
   "source": [
    "b = input(\"Enter your strings with commas for set 2: \\n\")\n",
    "set2 = set(s.strip() for s in b.split(\",\"))"
   ]
  },
  {
   "cell_type": "code",
   "execution_count": null,
   "id": "77d38284",
   "metadata": {},
   "outputs": [],
   "source": [
    "difference = set1 - set2"
   ]
  },
  {
   "cell_type": "code",
   "execution_count": null,
   "id": "56ad66b0",
   "metadata": {},
   "outputs": [],
   "source": [
    "print(difference)"
   ]
  }
 ],
 "metadata": {
  "jupytext": {
   "cell_metadata_filter": "-all",
   "main_language": "python",
   "notebook_metadata_filter": "-all"
  }
 },
 "nbformat": 4,
 "nbformat_minor": 5
}
