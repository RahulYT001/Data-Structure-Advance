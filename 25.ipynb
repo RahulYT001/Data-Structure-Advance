{
 "cells": [
  {
   "cell_type": "code",
   "execution_count": null,
   "id": "ab636450",
   "metadata": {},
   "outputs": [],
   "source": [
    "a = input(\"Enter the elements with commas:\\n\")\n",
    "b = tuple(map(int, a.split(\",\")))"
   ]
  },
  {
   "cell_type": "code",
   "execution_count": null,
   "id": "f710f894",
   "metadata": {},
   "outputs": [],
   "source": [
    "I1 = int(input(\"Enter the first index:\\n\"))\n",
    "I2 = int(input(\"Enter the second index:\\n\"))"
   ]
  },
  {
   "cell_type": "code",
   "execution_count": null,
   "id": "14165478",
   "metadata": {},
   "outputs": [],
   "source": [
    "l1 = []\n",
    "for i in range(I1, I2 + 1):\n",
    "    l1.append(b[i])"
   ]
  },
  {
   "cell_type": "code",
   "execution_count": null,
   "id": "16c6b00a",
   "metadata": {},
   "outputs": [],
   "source": [
    "a = tuple(l1)\n",
    "print(a)"
   ]
  }
 ],
 "metadata": {
  "jupytext": {
   "cell_metadata_filter": "-all",
   "main_language": "python",
   "notebook_metadata_filter": "-all"
  }
 },
 "nbformat": 4,
 "nbformat_minor": 5
}
