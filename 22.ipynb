{
 "cells": [
  {
   "cell_type": "code",
   "execution_count": null,
   "id": "7bd1746b",
   "metadata": {},
   "outputs": [],
   "source": [
    "a = input(\"Enter your numbers with commas for list 1: \\n\")\n",
    "list1 = list(map(int, a.split(\",\")))"
   ]
  },
  {
   "cell_type": "code",
   "execution_count": null,
   "id": "ce2ed91b",
   "metadata": {},
   "outputs": [],
   "source": [
    "b = input(\"Enter your numbers with commas for list 2: \\n\")\n",
    "list2 = list(map(int, b.split(\",\")))"
   ]
  },
  {
   "cell_type": "code",
   "execution_count": null,
   "id": "fde67c13",
   "metadata": {},
   "outputs": [],
   "source": [
    "inte = []\n",
    "k1 = list(set(list1))\n",
    "k2 = list(set(list2))"
   ]
  },
  {
   "cell_type": "code",
   "execution_count": null,
   "id": "11ee8ea7",
   "metadata": {},
   "outputs": [],
   "source": [
    "for i in k1:\n",
    "    if i in k2:\n",
    "        inte.append(i)"
   ]
  },
  {
   "cell_type": "code",
   "execution_count": null,
   "id": "d91d0196",
   "metadata": {},
   "outputs": [],
   "source": [
    "print(inte)"
   ]
  }
 ],
 "metadata": {
  "jupytext": {
   "cell_metadata_filter": "-all",
   "main_language": "python",
   "notebook_metadata_filter": "-all"
  }
 },
 "nbformat": 4,
 "nbformat_minor": 5
}
