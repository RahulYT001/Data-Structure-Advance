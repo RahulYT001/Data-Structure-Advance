{
 "cells": [
  {
   "cell_type": "code",
   "execution_count": null,
   "id": "e6b93f87",
   "metadata": {},
   "outputs": [],
   "source": [
    "a = input(\"Enter 1st string\\n\")\n",
    "b = input(\"Enter 2nd string\\n\")\n",
    "if len(a) == len(b):\n",
    "    if sorted(a) == sorted(b):\n",
    "        print(\"These strings are anagrams of each other.\")\n",
    "    else:\n",
    "        print(\"These strings are not anagrams of each other.\")\n",
    "else:\n",
    "    print(\"These strings are not anagrams of each other.\")"
   ]
  }
 ],
 "metadata": {
  "jupytext": {
   "cell_metadata_filter": "-all",
   "main_language": "python",
   "notebook_metadata_filter": "-all"
  }
 },
 "nbformat": 4,
 "nbformat_minor": 5
}
