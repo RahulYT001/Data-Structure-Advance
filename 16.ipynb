{
 "cells": [
  {
   "cell_type": "code",
   "execution_count": null,
   "id": "fad215b2",
   "metadata": {},
   "outputs": [],
   "source": [
    "l = [1, 2, 4, 5]"
   ]
  },
  {
   "cell_type": "code",
   "execution_count": null,
   "id": "0666c04c",
   "metadata": {},
   "outputs": [],
   "source": [
    "i = 1\n",
    "while i < len(l):\n",
    "    if l[i] > l[i-1]:\n",
    "        i += 1\n",
    "    else:\n",
    "        a = False\n",
    "        break\n",
    "else:\n",
    "    a = True"
   ]
  },
  {
   "cell_type": "code",
   "execution_count": null,
   "id": "86bd0579",
   "metadata": {},
   "outputs": [],
   "source": [
    "i = 1\n",
    "while i < len(l):\n",
    "    if l[i] < l[i-1]:\n",
    "        i += 1\n",
    "    else:\n",
    "        b = False\n",
    "        break\n",
    "else:\n",
    "    b = True"
   ]
  },
  {
   "cell_type": "code",
   "execution_count": null,
   "id": "6c5bf00b",
   "metadata": {},
   "outputs": [],
   "source": [
    "if not a and not b:\n",
    "    print(\"It is not sorted.\")\n",
    "elif a:\n",
    "    print(\"It is in ascending order.\")\n",
    "elif b:\n",
    "    print(\"It is in descending order.\")"
   ]
  }
 ],
 "metadata": {
  "jupytext": {
   "cell_metadata_filter": "-all",
   "main_language": "python",
   "notebook_metadata_filter": "-all"
  }
 },
 "nbformat": 4,
 "nbformat_minor": 5
}
