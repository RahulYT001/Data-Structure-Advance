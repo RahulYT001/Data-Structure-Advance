{
 "cells": [
  {
   "cell_type": "code",
   "execution_count": null,
   "id": "1b4d6174",
   "metadata": {},
   "outputs": [],
   "source": [
    "a = input(\"Enter your numbers with commas for Tuple 1: \\n\")\n",
    "t1 = tuple(map(int, a.split(\",\")))"
   ]
  },
  {
   "cell_type": "code",
   "execution_count": null,
   "id": "0c49fada",
   "metadata": {},
   "outputs": [],
   "source": [
    "b = input(\"Enter your numbers with commas for Tuple 2: \\n\")\n",
    "t2 = tuple(map(int, b.split(\",\")))"
   ]
  },
  {
   "cell_type": "code",
   "execution_count": null,
   "id": "25634f5c",
   "metadata": {},
   "outputs": [],
   "source": [
    "t3 = t1 + t2\n",
    "print(t3)"
   ]
  }
 ],
 "metadata": {
  "jupytext": {
   "cell_metadata_filter": "-all",
   "main_language": "python",
   "notebook_metadata_filter": "-all"
  }
 },
 "nbformat": 4,
 "nbformat_minor": 5
}
