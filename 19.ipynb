{
 "cells": [
  {
   "cell_type": "code",
   "execution_count": null,
   "id": "f47e28cb",
   "metadata": {},
   "outputs": [],
   "source": [
    "list1 = [1, 2, 2, 3, 4]\n",
    "list2 = [2, 2, 4, 6]"
   ]
  },
  {
   "cell_type": "code",
   "execution_count": null,
   "id": "557e81a5",
   "metadata": {},
   "outputs": [],
   "source": [
    "k1 = list(set(list1))\n",
    "k2 = list(set(list2))"
   ]
  },
  {
   "cell_type": "code",
   "execution_count": null,
   "id": "8ae2e75f",
   "metadata": {},
   "outputs": [],
   "source": [
    "if len(k1) > len(k2):\n",
    "    longer_list = k1\n",
    "else:\n",
    "    longer_list = k2"
   ]
  },
  {
   "cell_type": "code",
   "execution_count": null,
   "id": "0a0c044b",
   "metadata": {},
   "outputs": [],
   "source": [
    "union = []"
   ]
  },
  {
   "cell_type": "code",
   "execution_count": null,
   "id": "02e06b9e",
   "metadata": {},
   "outputs": [],
   "source": [
    "if longer_list == k1:\n",
    "    for i in k1:\n",
    "        if i not in k2:\n",
    "            union.append(i)\n",
    "else:\n",
    "    for i in k2:\n",
    "        if i not in k1:\n",
    "            union.append(i)"
   ]
  },
  {
   "cell_type": "code",
   "execution_count": null,
   "id": "4ab84a9e",
   "metadata": {},
   "outputs": [],
   "source": [
    "for i in (k1 if longer_list == k2 else k2):\n",
    "    if i not in union:\n",
    "        union.append(i)"
   ]
  },
  {
   "cell_type": "code",
   "execution_count": null,
   "id": "c527b436",
   "metadata": {},
   "outputs": [],
   "source": [
    "print(union)"
   ]
  }
 ],
 "metadata": {
  "jupytext": {
   "cell_metadata_filter": "-all",
   "main_language": "python",
   "notebook_metadata_filter": "-all"
  }
 },
 "nbformat": 4,
 "nbformat_minor": 5
}
