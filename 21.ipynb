{
 "cells": [
  {
   "cell_type": "code",
   "execution_count": null,
   "id": "2d22ca6b",
   "metadata": {},
   "outputs": [],
   "source": [
    "t1 = (1, 2, 2, 3, 4)\n",
    "t2 = (2, 2, 4, 6)\n",
    "inte = []\n",
    "k1 = list(set(t1))\n",
    "k2 = list(set(t2))"
   ]
  },
  {
   "cell_type": "code",
   "execution_count": null,
   "id": "3b28613b",
   "metadata": {},
   "outputs": [],
   "source": [
    "for i in k1:\n",
    "    if i in k2:\n",
    "        inte.append(i)"
   ]
  },
  {
   "cell_type": "code",
   "execution_count": null,
   "id": "c8cf1702",
   "metadata": {},
   "outputs": [],
   "source": [
    "print(inte)"
   ]
  }
 ],
 "metadata": {
  "jupytext": {
   "cell_metadata_filter": "-all",
   "main_language": "python",
   "notebook_metadata_filter": "-all"
  }
 },
 "nbformat": 4,
 "nbformat_minor": 5
}
