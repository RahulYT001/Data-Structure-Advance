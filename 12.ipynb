{
 "cells": [
  {
   "cell_type": "code",
   "execution_count": null,
   "id": "24f86744",
   "metadata": {},
   "outputs": [],
   "source": [
    "l = [1, 2343, 5345, 532, 121]\n",
    "num = list(set(l))\n",
    "largest = float('-inf')\n",
    "second_largest = float('-inf')"
   ]
  },
  {
   "cell_type": "code",
   "execution_count": null,
   "id": "9023c831",
   "metadata": {},
   "outputs": [],
   "source": [
    "for num in num:\n",
    "    if num > largest:\n",
    "        second_largest = largest\n",
    "        largest = num\n",
    "    elif (num > second_largest) and (num != largest):\n",
    "        second_largest = num"
   ]
  },
  {
   "cell_type": "code",
   "execution_count": null,
   "id": "9eab1c79",
   "metadata": {},
   "outputs": [],
   "source": [
    "print(second_largest)"
   ]
  }
 ],
 "metadata": {
  "jupytext": {
   "cell_metadata_filter": "-all",
   "main_language": "python",
   "notebook_metadata_filter": "-all"
  }
 },
 "nbformat": 4,
 "nbformat_minor": 5
}
