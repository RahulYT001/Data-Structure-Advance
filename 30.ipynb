{
 "cells": [
  {
   "cell_type": "code",
   "execution_count": null,
   "id": "aa33e968",
   "metadata": {},
   "outputs": [],
   "source": [
    "a = input(\"Enter your strings with commas for set 1: \\n\")\n",
    "list1 = list(j.strip() for j in a.split(\",\"))"
   ]
  },
  {
   "cell_type": "code",
   "execution_count": null,
   "id": "f80bdd49",
   "metadata": {},
   "outputs": [],
   "source": [
    "b = input(\"Enter your strings with commas for set 2: \\n\")\n",
    "list2 = list(k.strip() for k in b.split(\",\"))"
   ]
  },
  {
   "cell_type": "code",
   "execution_count": null,
   "id": "3e011254",
   "metadata": {},
   "outputs": [],
   "source": [
    "set1 = set(list1)\n",
    "set2 = set(list2)\n",
    "sym_diff = set1 ^ set2"
   ]
  },
  {
   "cell_type": "code",
   "execution_count": null,
   "id": "35e504f0",
   "metadata": {},
   "outputs": [],
   "source": [
    "print(f\"The symmetric difference of set 1 and set 2 is, {sym_diff}.\")"
   ]
  }
 ],
 "metadata": {
  "jupytext": {
   "cell_metadata_filter": "-all",
   "main_language": "python",
   "notebook_metadata_filter": "-all"
  }
 },
 "nbformat": 4,
 "nbformat_minor": 5
}
