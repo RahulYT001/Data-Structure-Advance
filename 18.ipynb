{
 "cells": [
  {
   "cell_type": "code",
   "execution_count": null,
   "id": "4b5e21d4",
   "metadata": {},
   "outputs": [],
   "source": [
    "list1 = [1, 2, 2, 3, 4]\n",
    "list2 = [2, 2, 4, 6]\n",
    "inte = []\n",
    "k1 = list(set(list1))\n",
    "k2 = list(set(list2))"
   ]
  },
  {
   "cell_type": "code",
   "execution_count": null,
   "id": "17c41245",
   "metadata": {},
   "outputs": [],
   "source": [
    "for i in k1:\n",
    "    if i in k2:\n",
    "        inte.append(i)"
   ]
  },
  {
   "cell_type": "code",
   "execution_count": null,
   "id": "8d71b57b",
   "metadata": {},
   "outputs": [],
   "source": [
    "print(inte)"
   ]
  }
 ],
 "metadata": {
  "jupytext": {
   "cell_metadata_filter": "-all",
   "main_language": "python",
   "notebook_metadata_filter": "-all"
  }
 },
 "nbformat": 4,
 "nbformat_minor": 5
}
