{
 "cells": [
  {
   "cell_type": "code",
   "execution_count": null,
   "id": "ffc4a7aa",
   "metadata": {},
   "outputs": [],
   "source": [
    "set1 = set(input(\"Enter the first set of characters (without spaces, e.g., abcdef):\\n\"))\n",
    "set2 = set(input(\"Enter the second set of characters (without spaces, e.g., ghijk):\\n\"))"
   ]
  },
  {
   "cell_type": "code",
   "execution_count": null,
   "id": "bfa0c8ef",
   "metadata": {},
   "outputs": [],
   "source": [
    "union_set = set1.union(set2)\n",
    "print(\"Union of the two sets:\", union_set)"
   ]
  }
 ],
 "metadata": {
  "jupytext": {
   "cell_metadata_filter": "-all",
   "main_language": "python",
   "notebook_metadata_filter": "-all"
  }
 },
 "nbformat": 4,
 "nbformat_minor": 5
}
