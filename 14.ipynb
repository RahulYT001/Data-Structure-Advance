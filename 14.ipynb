{
 "cells": [
  {
   "cell_type": "code",
   "execution_count": null,
   "id": "b1c61ff7",
   "metadata": {},
   "outputs": [],
   "source": [
    "l = [1, 23, 45, 6, 54, 3, 1]"
   ]
  },
  {
   "cell_type": "code",
   "execution_count": null,
   "id": "f6b4a492",
   "metadata": {},
   "outputs": [],
   "source": [
    "left = 0\n",
    "right = len(l) - 1"
   ]
  },
  {
   "cell_type": "code",
   "execution_count": null,
   "id": "cd30d5f8",
   "metadata": {},
   "outputs": [],
   "source": [
    "while left < right:\n",
    "    l[left], l[right] = l[right], l[left]\n",
    "    left += 1\n",
    "    right -= 1"
   ]
  },
  {
   "cell_type": "code",
   "execution_count": null,
   "id": "c064f59a",
   "metadata": {},
   "outputs": [],
   "source": [
    "print(l)"
   ]
  }
 ],
 "metadata": {
  "jupytext": {
   "cell_metadata_filter": "-all",
   "main_language": "python",
   "notebook_metadata_filter": "-all"
  }
 },
 "nbformat": 4,
 "nbformat_minor": 5
}
