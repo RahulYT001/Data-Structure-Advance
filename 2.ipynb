{
 "cells": [
  {
   "cell_type": "code",
   "execution_count": null,
   "id": "e3e5fb76",
   "metadata": {},
   "outputs": [],
   "source": [
    "v = \"AEIOUaeiou\"\n",
    "count = 0\n",
    "for k in (a := input(\"Enter the string\\n\")):    \n",
    "    if k in v:\n",
    "        count += 1\n",
    "print(count)"
   ]
  }
 ],
 "metadata": {
  "jupytext": {
   "cell_metadata_filter": "-all",
   "main_language": "python",
   "notebook_metadata_filter": "-all"
  }
 },
 "nbformat": 4,
 "nbformat_minor": 5
}
