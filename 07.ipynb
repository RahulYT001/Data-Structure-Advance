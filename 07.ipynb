{
 "cells": [
  {
   "cell_type": "code",
   "execution_count": null,
   "id": "a3aa3287",
   "metadata": {},
   "outputs": [],
   "source": [
    "a = input(\"Enter the string\\n\")\n",
    "b = set(a)\n",
    "if len(a) == len(b):\n",
    "    print(\"It has all the unique characters.\")\n",
    "else:\n",
    "    print(\"This string doesn't have all unique characters.\")"
   ]
  }
 ],
 "metadata": {
  "jupytext": {
   "cell_metadata_filter": "-all",
   "main_language": "python",
   "notebook_metadata_filter": "-all"
  }
 },
 "nbformat": 4,
 "nbformat_minor": 5
}
