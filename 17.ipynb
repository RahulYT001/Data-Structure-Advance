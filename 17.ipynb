{
 "cells": [
  {
   "cell_type": "code",
   "execution_count": null,
   "id": "b2c0623d",
   "metadata": {},
   "outputs": [],
   "source": [
    "l1 = [1, 34, 56]\n",
    "l2 = [2, 3, 4, 5, 6]\n",
    "i, j = 0, 0\n",
    "l3 = []"
   ]
  },
  {
   "cell_type": "code",
   "execution_count": null,
   "id": "efa2a39a",
   "metadata": {},
   "outputs": [],
   "source": [
    "while i < len(l1) and j < len(l2):\n",
    "    if l1[i] < l2[j]:\n",
    "        l3.append(l1[i])\n",
    "        i += 1\n",
    "    else:\n",
    "        l3.append(l2[j])\n",
    "        j += 1"
   ]
  },
  {
   "cell_type": "code",
   "execution_count": null,
   "id": "14eb3289",
   "metadata": {},
   "outputs": [],
   "source": [
    "while i < len(l1):\n",
    "    l3.append(l1[i])\n",
    "    i += 1"
   ]
  },
  {
   "cell_type": "code",
   "execution_count": null,
   "id": "6083ede1",
   "metadata": {},
   "outputs": [],
   "source": [
    "while j < len(l2):\n",
    "    l3.append(l2[j])\n",
    "    j += 1"
   ]
  },
  {
   "cell_type": "code",
   "execution_count": null,
   "id": "a6718c94",
   "metadata": {},
   "outputs": [],
   "source": [
    "print(l3)"
   ]
  }
 ],
 "metadata": {
  "jupytext": {
   "cell_metadata_filter": "-all",
   "main_language": "python",
   "notebook_metadata_filter": "-all"
  }
 },
 "nbformat": 4,
 "nbformat_minor": 5
}
