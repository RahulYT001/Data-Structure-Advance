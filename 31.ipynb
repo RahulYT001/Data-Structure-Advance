{
 "cells": [
  {
   "cell_type": "code",
   "execution_count": null,
   "id": "2c4da98e",
   "metadata": {},
   "outputs": [],
   "source": [
    "a = input(\"Enter your strings with commas: \\n\")\n",
    "list1 = list(j.strip() for j in a.split(\",\"))\n",
    "set1 = set(list1)\n",
    "d = {item: 0 for item in set1}"
   ]
  },
  {
   "cell_type": "code",
   "execution_count": null,
   "id": "57b7b04f",
   "metadata": {},
   "outputs": [],
   "source": [
    "for item in list1:\n",
    "    if item in d:\n",
    "        d[item] += 1"
   ]
  },
  {
   "cell_type": "code",
   "execution_count": null,
   "id": "21efddc7",
   "metadata": {},
   "outputs": [],
   "source": [
    "print(d.items())"
   ]
  }
 ],
 "metadata": {
  "jupytext": {
   "cell_metadata_filter": "-all",
   "main_language": "python",
   "notebook_metadata_filter": "-all"
  }
 },
 "nbformat": 4,
 "nbformat_minor": 5
}
