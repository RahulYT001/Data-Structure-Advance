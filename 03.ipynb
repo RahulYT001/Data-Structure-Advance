{
 "cells": [
  {
   "cell_type": "code",
   "execution_count": null,
   "id": "33f31034",
   "metadata": {},
   "outputs": [],
   "source": [
    "a = int(input(\"Enter a number\\n\"))\n",
    "rev_num = 0\n",
    "num_copy = a\n",
    "while a > 0:\n",
    "    r = a % 10\n",
    "    rev_num = (rev_num * 10) + r\n",
    "    a = a // 10\n",
    "if num_copy == rev_num:\n",
    "    print(\"It's Palindrome\")\n",
    "else:\n",
    "    print(\"It's not a palindrome\")"
   ]
  }
 ],
 "metadata": {
  "jupytext": {
   "cell_metadata_filter": "-all",
   "main_language": "python",
   "notebook_metadata_filter": "-all"
  }
 },
 "nbformat": 4,
 "nbformat_minor": 5
}
