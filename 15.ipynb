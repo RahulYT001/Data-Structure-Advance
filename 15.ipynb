{
 "cells": [
  {
   "cell_type": "code",
   "execution_count": null,
   "id": "da270744",
   "metadata": {},
   "outputs": [],
   "source": [
    "l = [1, 1, 23, 45, 56, 23]"
   ]
  },
  {
   "cell_type": "code",
   "execution_count": null,
   "id": "407d105b",
   "metadata": {},
   "outputs": [],
   "source": [
    "set = set()\n",
    "result = []"
   ]
  },
  {
   "cell_type": "code",
   "execution_count": null,
   "id": "86cba217",
   "metadata": {},
   "outputs": [],
   "source": [
    "for i in l:\n",
    "    if i not in set:\n",
    "        result.append(i)\n",
    "        set.add(i)"
   ]
  },
  {
   "cell_type": "code",
   "execution_count": null,
   "id": "1c840c61",
   "metadata": {},
   "outputs": [],
   "source": [
    "print(result)"
   ]
  }
 ],
 "metadata": {
  "jupytext": {
   "cell_metadata_filter": "-all",
   "main_language": "python",
   "notebook_metadata_filter": "-all"
  }
 },
 "nbformat": 4,
 "nbformat_minor": 5
}
