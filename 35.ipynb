{
 "cells": [
  {
   "cell_type": "code",
   "execution_count": null,
   "id": "a3f428f7",
   "metadata": {},
   "outputs": [],
   "source": [
    "my_dict = {\n",
    "    'a': 1,\n",
    "    'b': 2,\n",
    "    'c': 1,\n",
    "    'd': 3,\n",
    "    'e': 2\n",
    "}"
   ]
  },
  {
   "cell_type": "code",
   "execution_count": null,
   "id": "b31a3bfe",
   "metadata": {},
   "outputs": [],
   "source": [
    "inverted = {}\n",
    "for key, value in my_dict.items():\n",
    "    if value in inverted:\n",
    "        inverted[value].append(key)\n",
    "    else:\n",
    "        inverted[value] = [key]"
   ]
  },
  {
   "cell_type": "code",
   "execution_count": null,
   "id": "335522a2",
   "metadata": {},
   "outputs": [],
   "source": [
    "print(inverted)"
   ]
  }
 ],
 "metadata": {
  "jupytext": {
   "cell_metadata_filter": "-all",
   "main_language": "python",
   "notebook_metadata_filter": "-all"
  }
 },
 "nbformat": 4,
 "nbformat_minor": 5
}
