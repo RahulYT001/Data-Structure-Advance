{
 "cells": [
  {
   "cell_type": "code",
   "execution_count": null,
   "id": "d02a4f39",
   "metadata": {},
   "outputs": [],
   "source": [
    "while True:\n",
    "    print(\"      Menu\")\n",
    "    print(\"1. Upper_case\\n2. Lower_case\\n3. Exit\")\n",
    "    b = int(input(\"Press 1, 2 or 3\\n\"))\n",
    "    if b == 3:\n",
    "        print(\"Exited..\")\n",
    "        break\n",
    "    else:\n",
    "        a = input(\"Enter the string\\n\")\n",
    "        if b == 1:\n",
    "            print(a.upper())\n",
    "        elif b == 2:\n",
    "            print(a.lower())\n",
    "        else:\n",
    "            print(\"Enter a valid input\")"
   ]
  }
 ],
 "metadata": {
  "jupytext": {
   "cell_metadata_filter": "-all",
   "main_language": "python",
   "notebook_metadata_filter": "-all"
  }
 },
 "nbformat": 4,
 "nbformat_minor": 5
}
