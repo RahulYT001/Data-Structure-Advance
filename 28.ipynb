{
 "cells": [
  {
   "cell_type": "code",
   "execution_count": null,
   "id": "037500cd",
   "metadata": {},
   "outputs": [],
   "source": [
    "a = input(\"Enter your numbers with commas for set 1: \\n\")\n",
    "list1 = list(map(int, a.split(\",\")))"
   ]
  },
  {
   "cell_type": "code",
   "execution_count": null,
   "id": "7f1ae35f",
   "metadata": {},
   "outputs": [],
   "source": [
    "b = input(\"Enter your numbers with commas for set 2: \\n\")\n",
    "list2 = list(map(int, b.split(\",\")))"
   ]
  },
  {
   "cell_type": "code",
   "execution_count": null,
   "id": "44c9baba",
   "metadata": {},
   "outputs": [],
   "source": [
    "set1 = set(list1)\n",
    "set2 = set(list2)\n",
    "union = set1.union(set2)\n",
    "intersection = set1.intersection(set2)\n",
    "difference = set1.difference(set2)"
   ]
  },
  {
   "cell_type": "code",
   "execution_count": null,
   "id": "bbba56cd",
   "metadata": {},
   "outputs": [],
   "source": [
    "print(f\"The union is {union}, intersection is {intersection} and difference is {difference}.\")"
   ]
  }
 ],
 "metadata": {
  "jupytext": {
   "cell_metadata_filter": "-all",
   "main_language": "python",
   "notebook_metadata_filter": "-all"
  }
 },
 "nbformat": 4,
 "nbformat_minor": 5
}
