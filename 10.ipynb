{
 "cells": [
  {
   "cell_type": "code",
   "execution_count": null,
   "id": "fa17c14a",
   "metadata": {},
   "outputs": [],
   "source": [
    "a = input(\"Enter 1st string\\n\")\n",
    "b = input(\"Enter 2nd string\\n\")\n",
    "c = \" \".join([a, b])\n",
    "print(c)"
   ]
  }
 ],
 "metadata": {
  "jupytext": {
   "cell_metadata_filter": "-all",
   "main_language": "python",
   "notebook_metadata_filter": "-all"
  }
 },
 "nbformat": 4,
 "nbformat_minor": 5
}
