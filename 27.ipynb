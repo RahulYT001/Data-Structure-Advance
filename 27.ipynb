{
 "cells": [
  {
   "cell_type": "code",
   "execution_count": null,
   "id": "998eb165",
   "metadata": {},
   "outputs": [],
   "source": [
    "a = input(\"Enter the elements with commas:\\n\")\n",
    "b = tuple(map(int, a.split(\",\")))"
   ]
  },
  {
   "cell_type": "code",
   "execution_count": null,
   "id": "440f91a0",
   "metadata": {},
   "outputs": [],
   "source": [
    "lowest = b[0]\n",
    "greatest = b[0]"
   ]
  },
  {
   "cell_type": "code",
   "execution_count": null,
   "id": "9cfa7674",
   "metadata": {},
   "outputs": [],
   "source": [
    "for i in b:\n",
    "    if i < lowest:\n",
    "        lowest = i"
   ]
  },
  {
   "cell_type": "code",
   "execution_count": null,
   "id": "7495ac4d",
   "metadata": {},
   "outputs": [],
   "source": [
    "for k in b:\n",
    "    if k > greatest:\n",
    "        greatest = k"
   ]
  },
  {
   "cell_type": "code",
   "execution_count": null,
   "id": "c9596801",
   "metadata": {},
   "outputs": [],
   "source": [
    "print(f\"The max value in this tuple is: {greatest}\")\n",
    "print(f\"The min value in this tuple is: {lowest}\")"
   ]
  }
 ],
 "metadata": {
  "jupytext": {
   "cell_metadata_filter": "-all",
   "main_language": "python",
   "notebook_metadata_filter": "-all"
  }
 },
 "nbformat": 4,
 "nbformat_minor": 5
}
