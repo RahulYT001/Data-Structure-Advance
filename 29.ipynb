{
 "cells": [
  {
   "cell_type": "code",
   "execution_count": null,
   "id": "cffcb634",
   "metadata": {},
   "outputs": [],
   "source": [
    "a = input(\"Enter the elements with commas:\\n\")\n",
    "b = tuple(a.split(\",\"))\n",
    "ele = input(\"Enter one element: \\n\")"
   ]
  },
  {
   "cell_type": "code",
   "execution_count": null,
   "id": "f60183c9",
   "metadata": {},
   "outputs": [],
   "source": [
    "c = 0\n",
    "for i in b:\n",
    "    if i == ele:\n",
    "        c += 1"
   ]
  },
  {
   "cell_type": "code",
   "execution_count": null,
   "id": "9551d596",
   "metadata": {},
   "outputs": [],
   "source": [
    "print(f\"The number of occurrences of {ele} in {b} is {c}.\")"
   ]
  }
 ],
 "metadata": {
  "jupytext": {
   "cell_metadata_filter": "-all",
   "main_language": "python",
   "notebook_metadata_filter": "-all"
  }
 },
 "nbformat": 4,
 "nbformat_minor": 5
}
