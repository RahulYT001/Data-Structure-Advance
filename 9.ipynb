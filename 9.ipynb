{
 "cells": [
  {
   "cell_type": "code",
   "execution_count": null,
   "id": "ae8021f5",
   "metadata": {},
   "outputs": [],
   "source": [
    "c = 0\n",
    "a = input(\"Enter the string\\n\")\n",
    "words = a.split()"
   ]
  },
  {
   "cell_type": "code",
   "execution_count": null,
   "id": "b43fbfe2",
   "metadata": {},
   "outputs": [],
   "source": [
    "for i in words:\n",
    "    c += 1"
   ]
  },
  {
   "cell_type": "code",
   "execution_count": null,
   "id": "900b5549",
   "metadata": {},
   "outputs": [],
   "source": [
    "print(c)"
   ]
  }
 ],
 "metadata": {
  "jupytext": {
   "cell_metadata_filter": "-all",
   "main_language": "python",
   "notebook_metadata_filter": "-all"
  }
 },
 "nbformat": 4,
 "nbformat_minor": 5
}
