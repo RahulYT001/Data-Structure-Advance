{
 "cells": [
  {
   "cell_type": "code",
   "execution_count": null,
   "id": "aab715ec",
   "metadata": {},
   "outputs": [],
   "source": [
    "l = [1, 23, 4, 5, 1, 5, 4]\n",
    "print(f\"The given list is {l}\")\n",
    "a = int(input(\"Enter the element that should be removed\\n\"))\n",
    "index = []\n",
    "c = 0"
   ]
  },
  {
   "cell_type": "code",
   "execution_count": null,
   "id": "6dce6f6d",
   "metadata": {},
   "outputs": [],
   "source": [
    "for i in l:\n",
    "    if i == a:\n",
    "        index.append(c)\n",
    "    c += 1"
   ]
  },
  {
   "cell_type": "code",
   "execution_count": null,
   "id": "2312ef47",
   "metadata": {},
   "outputs": [],
   "source": [
    "index.sort()\n",
    "index.reverse()"
   ]
  },
  {
   "cell_type": "code",
   "execution_count": null,
   "id": "e6969a66",
   "metadata": {},
   "outputs": [],
   "source": [
    "for k in index:\n",
    "    l.pop(k)"
   ]
  },
  {
   "cell_type": "code",
   "execution_count": null,
   "id": "a1104910",
   "metadata": {},
   "outputs": [],
   "source": [
    "print(l)"
   ]
  }
 ],
 "metadata": {
  "jupytext": {
   "cell_metadata_filter": "-all",
   "main_language": "python",
   "notebook_metadata_filter": "-all"
  }
 },
 "nbformat": 4,
 "nbformat_minor": 5
}
