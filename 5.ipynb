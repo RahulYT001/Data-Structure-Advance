{
 "cells": [
  {
   "cell_type": "code",
   "execution_count": 1,
   "id": "67eca2b2",
   "metadata": {},
   "outputs": [],
   "source": [
    "count = 0\n",
    "start = 0\n",
    "main_string = input(\"Enter the main string: \")\n",
    "sub_string = input(\"Enter the substring: \")"
   ]
  },
  {
   "cell_type": "code",
   "execution_count": 2,
   "id": "7f0fe92e",
   "metadata": {},
   "outputs": [],
   "source": [
    "while start < len(main_string):\n",
    "    pos = main_string.find(sub_string, start)\n",
    "    if pos != -1:\n",
    "        count += 1\n",
    "        start = pos + 1  \n",
    "    else:\n",
    "        break"
   ]
  },
  {
   "cell_type": "code",
   "execution_count": 3,
   "id": "affd8b92",
   "metadata": {},
   "outputs": [
    {
     "name": "stdout",
     "output_type": "stream",
     "text": [
      "The substring 'how' occurs 1 times in the main string.\n"
     ]
    }
   ],
   "source": [
    "print(f\"The substring '{sub_string}' occurs {count} times in the main string.\")"
   ]
  },
  {
   "cell_type": "code",
   "execution_count": null,
   "id": "39436775",
   "metadata": {},
   "outputs": [],
   "source": []
  }
 ],
 "metadata": {
  "jupytext": {
   "cell_metadata_filter": "-all",
   "main_language": "python",
   "notebook_metadata_filter": "-all"
  },
  "kernelspec": {
   "display_name": "Python 3",
   "language": "python",
   "name": "python3"
  },
  "language_info": {
   "codemirror_mode": {
    "name": "ipython",
    "version": 3
   },
   "file_extension": ".py",
   "mimetype": "text/x-python",
   "name": "python",
   "nbconvert_exporter": "python",
   "pygments_lexer": "ipython3",
   "version": "3.12.4"
  }
 },
 "nbformat": 4,
 "nbformat_minor": 5
}
