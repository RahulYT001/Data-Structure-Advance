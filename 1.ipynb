{
 "cells": [
  {
   "cell_type": "code",
   "execution_count": null,
   "id": "8d9c4bf2",
   "metadata": {},
   "outputs": [],
   "source": [
    "rev_str = \"\"\n",
    "length = len(a := input(\"Enter the string to be reversed: \"))\n",
    "while length > 0:\n",
    "    rev_str += a[length - 1]\n",
    "    length -= 1\n",
    "print(rev_str)"
   ]
  }
 ],
 "metadata": {
  "jupytext": {
   "cell_metadata_filter": "-all",
   "main_language": "python",
   "notebook_metadata_filter": "-all"
  }
 },
 "nbformat": 4,
 "nbformat_minor": 5
}
