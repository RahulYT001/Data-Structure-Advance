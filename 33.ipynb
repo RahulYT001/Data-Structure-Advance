{
 "cells": [
  {
   "cell_type": "code",
   "execution_count": null,
   "id": "89eae35f",
   "metadata": {},
   "outputs": [],
   "source": [
    "a = input(\"Enter your keys with commas: \\n\")\n",
    "list1 = list(j.strip() for j in a.split(\",\"))"
   ]
  },
  {
   "cell_type": "code",
   "execution_count": null,
   "id": "7c4065af",
   "metadata": {},
   "outputs": [],
   "source": [
    "nested_dict = {\n",
    "    'a': {\n",
    "        'b': {\n",
    "            'c': 42\n",
    "        }\n",
    "    },\n",
    "    'x': {\n",
    "        'y': {\n",
    "            'z': 99\n",
    "        }\n",
    "    }\n",
    "}"
   ]
  },
  {
   "cell_type": "code",
   "execution_count": null,
   "id": "287525e3",
   "metadata": {},
   "outputs": [],
   "source": [
    "current = nested_dict\n",
    "for key in list1:\n",
    "    if key in current:\n",
    "        current = current[key]\n",
    "    else:\n",
    "        print(None)\n",
    "        break\n",
    "else:\n",
    "    print(current)"
   ]
  }
 ],
 "metadata": {
  "jupytext": {
   "cell_metadata_filter": "-all",
   "main_language": "python",
   "notebook_metadata_filter": "-all"
  }
 },
 "nbformat": 4,
 "nbformat_minor": 5
}
