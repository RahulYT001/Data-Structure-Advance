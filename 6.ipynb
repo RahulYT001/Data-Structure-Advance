{
 "cells": [
  {
   "cell_type": "code",
   "execution_count": null,
   "id": "2f477ee9",
   "metadata": {},
   "outputs": [],
   "source": [
    "count = 1\n",
    "str_return = \"\"\n",
    "a = input(\"Enter the string\\n\")\n",
    "length = len(a)"
   ]
  },
  {
   "cell_type": "code",
   "execution_count": null,
   "id": "b0189ff2",
   "metadata": {},
   "outputs": [],
   "source": [
    "for i in range(1, length):\n",
    "    if (a[i] == a[i-1]):\n",
    "        count += 1\n",
    "    else:\n",
    "        str_return += a[i-1] + f\"{count}\"\n",
    "        count = 1"
   ]
  },
  {
   "cell_type": "code",
   "execution_count": null,
   "id": "8f7b25d9",
   "metadata": {},
   "outputs": [],
   "source": [
    "str_return += a[-1] + f\"{count}\"\n",
    "print(str_return)"
   ]
  }
 ],
 "metadata": {
  "jupytext": {
   "cell_metadata_filter": "-all",
   "main_language": "python",
   "notebook_metadata_filter": "-all"
  }
 },
 "nbformat": 4,
 "nbformat_minor": 5
}
