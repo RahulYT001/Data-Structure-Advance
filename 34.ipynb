{
 "cells": [
  {
   "cell_type": "code",
   "execution_count": null,
   "id": "0dea4d43",
   "metadata": {},
   "outputs": [],
   "source": [
    "my_dict = {\n",
    "    'a': 3,\n",
    "    'b': 1,\n",
    "    'c': 2,\n",
    "    'd': 5\n",
    "}"
   ]
  },
  {
   "cell_type": "code",
   "execution_count": null,
   "id": "c19ba6c3",
   "metadata": {},
   "outputs": [],
   "source": [
    "d2 = {}\n",
    "sorted_values = sorted(my_dict.values())"
   ]
  },
  {
   "cell_type": "code",
   "execution_count": null,
   "id": "4289a663",
   "metadata": {},
   "outputs": [],
   "source": [
    "for value in sorted_values:\n",
    "    for key in my_dict:\n",
    "        if my_dict[key] == value and key not in d2:\n",
    "            d2[key] = value\n",
    "            break"
   ]
  },
  {
   "cell_type": "code",
   "execution_count": null,
   "id": "2782156e",
   "metadata": {},
   "outputs": [],
   "source": [
    "print(d2)"
   ]
  }
 ],
 "metadata": {
  "jupytext": {
   "cell_metadata_filter": "-all",
   "main_language": "python",
   "notebook_metadata_filter": "-all"
  }
 },
 "nbformat": 4,
 "nbformat_minor": 5
}
