{
 "cells": [
  {
   "cell_type": "code",
   "execution_count": null,
   "id": "67eca2b2",
   "metadata": {},
   "outputs": [],
   "source": [
    "count = 0\n",
    "start = 0\n",
    "main_string = input(\"Enter the main string: \")\n",
    "sub_string = input(\"Enter the substring: \")"
   ]
  },
  {
   "cell_type": "code",
   "execution_count": null,
   "id": "7f0fe92e",
   "metadata": {},
   "outputs": [],
   "source": [
    "while start < len(main_string):\n",
    "    pos = main_string.find(sub_string, start)\n",
    "    if pos != -1:\n",
    "        count += 1\n",
    "        start = pos + 1  \n",
    "    else:\n",
    "        break"
   ]
  },
  {
   "cell_type": "code",
   "execution_count": null,
   "id": "affd8b92",
   "metadata": {},
   "outputs": [],
   "source": [
    "print(f\"The substring '{sub_string}' occurs {count} times in the main string.\")"
   ]
  }
 ],
 "metadata": {
  "jupytext": {
   "cell_metadata_filter": "-all",
   "main_language": "python",
   "notebook_metadata_filter": "-all"
  }
 },
 "nbformat": 4,
 "nbformat_minor": 5
}
