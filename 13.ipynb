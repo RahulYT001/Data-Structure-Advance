{
 "cells": [
  {
   "cell_type": "code",
   "execution_count": null,
   "id": "fd0cf106",
   "metadata": {},
   "outputs": [],
   "source": [
    "l = [1, 23, 45, 6, 54, 3, 1]\n",
    "l.sort()\n",
    "d = {}"
   ]
  },
  {
   "cell_type": "code",
   "execution_count": null,
   "id": "4b88465e",
   "metadata": {},
   "outputs": [],
   "source": [
    "count = 1"
   ]
  },
  {
   "cell_type": "code",
   "execution_count": null,
   "id": "b468aee1",
   "metadata": {},
   "outputs": [],
   "source": [
    "for index in range(1, len(l)):\n",
    "    if l[index] == l[index-1]:\n",
    "        count += 1\n",
    "    else:\n",
    "        d[l[index-1]] = count\n",
    "        count = 1"
   ]
  },
  {
   "cell_type": "code",
   "execution_count": null,
   "id": "02f01c46",
   "metadata": {},
   "outputs": [],
   "source": [
    "d[l[-1]] = count"
   ]
  },
  {
   "cell_type": "code",
   "execution_count": null,
   "id": "bef35bfd",
   "metadata": {},
   "outputs": [],
   "source": [
    "print(d.items())"
   ]
  }
 ],
 "metadata": {
  "jupytext": {
   "cell_metadata_filter": "-all",
   "main_language": "python",
   "notebook_metadata_filter": "-all"
  }
 },
 "nbformat": 4,
 "nbformat_minor": 5
}
